{
  "cells": [
    {
      "cell_type": "raw",
      "metadata": {
        "vscode": {
          "languageId": "raw"
        }
      },
      "source": [
        "# NBA Finals 2025 - Game 6 Analysis\n",
        "Oklahoma City Thunder vs Indiana Pacers - June 19, 2025\n",
        "\n",
        "This notebook collects and analyzes data from Game 6 of the 2025 NBA Finals between the Oklahoma City Thunder and Indiana Pacers.\n"
      ]
    },
    {
      "cell_type": "code",
      "execution_count": null,
      "metadata": {},
      "outputs": [],
      "source": [
        "import os\n",
        "import pandas as pd\n",
        "from nba_api.stats.static import teams\n",
        "from pathlib import Path\n",
        "\n",
        "# Setup data directory path - go up one level from notebooks to project root\n",
        "BASE_DIR = Path(os.getcwd()).parent\n",
        "DATA_DIR = BASE_DIR / 'data' / 'game6'\n",
        "os.makedirs(DATA_DIR, exist_ok=True)\n",
        "\n",
        "print(f\"Working directory: {BASE_DIR}\")\n",
        "print(f\"Data directory: {DATA_DIR}\")\n",
        "print(f\"Data directory exists: {DATA_DIR.exists()}\")\n",
        "print(f\"Data directory is writable: {os.access(DATA_DIR, os.W_OK)}\")\n",
        "\n",
        "# Get team IDs\n",
        "OKC_data = teams.find_teams_by_full_name(\"Oklahoma City Thunder\")\n",
        "OKC_id = OKC_data[0]['id'] # 1610612760\n",
        "\n",
        "PAC_data = teams.find_teams_by_full_name(\"Indiana Pacers\")\n",
        "PAC_id = PAC_data[0]['id'] # 1610612754\n"
      ]
    },
    {
      "cell_type": "code",
      "execution_count": null,
      "metadata": {},
      "outputs": [],
      "source": [
        "# Get Game ID\n",
        "from nba_api.stats.endpoints import leaguegamefinder\n",
        "\n",
        "finder = leaguegamefinder.LeagueGameFinder(\n",
        "    player_or_team_abbreviation=\"T\",\n",
        "    team_id_nullable=OKC_id,\n",
        "    date_from_nullable=\"06/19/2025\",\n",
        "    date_to_nullable=\"06/19/2025\"\n",
        ")\n",
        "\n",
        "g6 = finder.get_data_frames()[0]\n",
        "g6_id = g6[\"GAME_ID\"].iloc[0] # Should be 0042400406\n",
        "\n",
        "print(\"Game Data:\")\n",
        "print(g6)\n"
      ]
    },
    {
      "cell_type": "code",
      "execution_count": null,
      "metadata": {},
      "outputs": [],
      "source": [
        "# Import required endpoints\n",
        "from nba_api.stats.endpoints import (\n",
        "    boxscoretraditionalv2,\n",
        "    boxscoreadvancedv2,\n",
        "    playbyplayv2,\n",
        "    hustlestatsboxscore,\n",
        "    winprobabilitypbp,\n",
        "    boxscorefourfactorsv2,\n",
        "    shotchartdetail\n",
        ")\n",
        "\n",
        "# Traditional Stats\n",
        "trad_stats = boxscoretraditionalv2.BoxScoreTraditionalV2(game_id=g6_id)\n",
        "trad_stats_df = trad_stats.get_data_frames()[0]\n",
        "trad_stats_df.to_csv(DATA_DIR / 'traditional_stats.csv', index=False)\n",
        "\n",
        "# Advanced Stats\n",
        "adv_stats = boxscoreadvancedv2.BoxScoreAdvancedV2(game_id=g6_id)\n",
        "adv_stats_df = adv_stats.get_data_frames()[0]\n",
        "adv_stats_df.to_csv(DATA_DIR / 'advanced_stats.csv', index=False)\n",
        "\n",
        "# Play by Play\n",
        "pbp = playbyplayv2.PlayByPlayV2(game_id=g6_id)\n",
        "pbp_df = pbp.get_data_frames()[0]\n",
        "pbp_df.to_csv(DATA_DIR / 'play_by_play.csv', index=False)\n",
        "\n",
        "# Hustle Stats\n",
        "hustle = hustlestatsboxscore.HustleStatsBoxScore(game_id=g6_id)\n",
        "hustle_df = hustle.get_data_frames()[0]\n",
        "hustle_df.to_csv(DATA_DIR / 'hustle_stats.csv', index=False)\n",
        "\n",
        "# Win Probability\n",
        "wp = winprobabilitypbp.WinProbabilityPBP(game_id=g6_id)\n",
        "wp_df = wp.get_data_frames()[0]\n",
        "wp_df.to_csv(DATA_DIR / 'win_probability.csv', index=False)\n",
        "\n",
        "# Four Factors\n",
        "ff = boxscorefourfactorsv2.BoxScoreFourFactorsV2(game_id=g6_id)\n",
        "ff_df = ff.get_data_frames()[0]\n",
        "ff_df.to_csv(DATA_DIR / 'four_factors.csv', index=False)\n",
        "\n",
        "# Shot Charts\n",
        "okc_shots = shotchartdetail.ShotChartDetail(team_id=OKC_id, game_id_nullable=g6_id)\n",
        "okc_shots_df = okc_shots.get_data_frames()[0]\n",
        "okc_shots_df.to_csv(DATA_DIR / 'okc_shots.csv', index=False)\n",
        "\n",
        "pac_shots = shotchartdetail.ShotChartDetail(team_id=PAC_id, game_id_nullable=g6_id)\n",
        "pac_shots_df = pac_shots.get_data_frames()[0]\n",
        "pac_shots_df.to_csv(DATA_DIR / 'pac_shots.csv', index=False)\n",
        "\n",
        "print(\"All data has been collected and saved to the data/game6 directory.\")\n"
      ]
    }
  ],
  "metadata": {
    "language_info": {
      "name": "python"
    }
  },
  "nbformat": 4,
  "nbformat_minor": 2
}
